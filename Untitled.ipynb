{
 "cells": [
  {
   "cell_type": "code",
   "execution_count": 8,
   "id": "338e9a80-f094-402b-9160-535f61b805cf",
   "metadata": {},
   "outputs": [
    {
     "data": {
      "text/plain": [
       "<CartesianRepresentation (x, y, z) in AU\n",
       "    (3.99442023, 2.7334608, 1.07451899)>"
      ]
     },
     "execution_count": 8,
     "metadata": {},
     "output_type": "execute_result"
    }
   ],
   "source": [
    "from astropy import time, coordinates as coord, units as u\n",
    "from astropy.coordinates import solar_system_ephemeris, EarthLocation\n",
    "from astropy.coordinates import get_body_barycentric, get_body, get_moon\n",
    "\n",
    "t = time.Time(2451545, format='jd')\n",
    "with solar_system_ephemeris.set('builtin'):\n",
    "    jup = get_body('jupiter', t) \n",
    "jup = get_body_barycentric('jupiter', t)\n",
    "jup "
   ]
  },
  {
   "cell_type": "code",
   "execution_count": 17,
   "id": "af8517e4-64d6-49f2-85f9-a39f18c6c8b2",
   "metadata": {},
   "outputs": [
    {
     "data": {
      "text/plain": [
       "<TimeDelta object: scale='tdb' format='jd' value=0.0032572676399179193>"
      ]
     },
     "execution_count": 17,
     "metadata": {},
     "output_type": "execute_result"
    }
   ],
   "source": [
    "JD = 2451500\n",
    "coordinates = coord.SkyCoord(\"00:00:00\", \"+00:00:00\",unit=(u.hourangle, u.deg), frame='icrs')\n",
    "location = coord.EarthLocation.from_geodetic(0,0)  \n",
    "times = time.Time(JD, format='jd')  \n",
    "ltt_bary = times.light_travel_time(coordinates, location=location)  \n",
    "ltt_bary "
   ]
  }
 ],
 "metadata": {
  "kernelspec": {
   "display_name": "Python 3 (ipykernel)",
   "language": "python",
   "name": "python3"
  },
  "language_info": {
   "codemirror_mode": {
    "name": "ipython",
    "version": 3
   },
   "file_extension": ".py",
   "mimetype": "text/x-python",
   "name": "python",
   "nbconvert_exporter": "python",
   "pygments_lexer": "ipython3",
   "version": "3.9.7"
  }
 },
 "nbformat": 4,
 "nbformat_minor": 5
}
